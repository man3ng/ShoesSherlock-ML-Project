{
  "nbformat": 4,
  "nbformat_minor": 0,
  "metadata": {
    "colab": {
      "provenance": [],
      "gpuType": "T4",
      "include_colab_link": true
    },
    "kernelspec": {
      "name": "python3",
      "display_name": "Python 3"
    },
    "language_info": {
      "name": "python"
    },
    "accelerator": "GPU"
  },
  "cells": [
    {
      "cell_type": "markdown",
      "metadata": {
        "id": "view-in-github",
        "colab_type": "text"
      },
      "source": [
        "<a href=\"https://colab.research.google.com/github/ucsd-cse-spis-2023/shoesherlock-Tri-Kevin/blob/main/Spis_2023_shoesherlock_project_Kevin_Tri_v2_5.ipynb\" target=\"_parent\"><img src=\"https://colab.research.google.com/assets/colab-badge.svg\" alt=\"Open In Colab\"/></a>"
      ]
    },
    {
      "cell_type": "markdown",
      "source": [
        "#**ShoeSherlock**: Shoes Brands Recognition Project\n",
        "##By: Manh Tri Nguyen & Yuan-Kai (Kevin) Yang\n",
        "###Supported by: SPIS Mentors - Emmett, Samvrit, Sonia, Audria, Ryan L, and Ryan D"
      ],
      "metadata": {
        "id": "L0vy1Uk5bQ3q"
      }
    },
    {
      "cell_type": "markdown",
      "source": [],
      "metadata": {
        "id": "yc7jRv7reAiv"
      }
    },
    {
      "cell_type": "markdown",
      "source": [
        "##Importing Neccessary Libraries"
      ],
      "metadata": {
        "id": "l2-N--GZEXgW"
      }
    },
    {
      "cell_type": "code",
      "execution_count": 1,
      "metadata": {
        "id": "dtVTK3dSDfUQ",
        "colab": {
          "base_uri": "https://localhost:8080/"
        },
        "outputId": "a5c0d15f-54cf-4772-8c1a-4a24f3549579"
      },
      "outputs": [
        {
          "output_type": "stream",
          "name": "stdout",
          "text": [
            "Requirement already satisfied: split-folders in c:\\users\\keviny168\\anaconda3\\envs\\colab\\lib\\site-packages (0.5.1)\n",
            "Requirement already satisfied: matplotlib in c:\\users\\keviny168\\anaconda3\\envs\\colab\\lib\\site-packages (3.7.2)\n",
            "Requirement already satisfied: opencv-python in c:\\users\\keviny168\\anaconda3\\envs\\colab\\lib\\site-packages (4.8.0.76)\n",
            "Requirement already satisfied: spicy in c:\\users\\keviny168\\anaconda3\\envs\\colab\\lib\\site-packages (0.16.0)\n",
            "Requirement already satisfied: tensorflow==2.13.* in c:\\users\\keviny168\\anaconda3\\envs\\colab\\lib\\site-packages (2.13.0)\n",
            "Requirement already satisfied: tensorflow-intel==2.13.0 in c:\\users\\keviny168\\anaconda3\\envs\\colab\\lib\\site-packages (from tensorflow==2.13.*) (2.13.0)\n",
            "Requirement already satisfied: absl-py>=1.0.0 in c:\\users\\keviny168\\anaconda3\\envs\\colab\\lib\\site-packages (from tensorflow-intel==2.13.0->tensorflow==2.13.*) (1.4.0)\n",
            "Requirement already satisfied: astunparse>=1.6.0 in c:\\users\\keviny168\\anaconda3\\envs\\colab\\lib\\site-packages (from tensorflow-intel==2.13.0->tensorflow==2.13.*) (1.6.3)\n",
            "Requirement already satisfied: flatbuffers>=23.1.21 in c:\\users\\keviny168\\anaconda3\\envs\\colab\\lib\\site-packages (from tensorflow-intel==2.13.0->tensorflow==2.13.*) (23.5.26)\n",
            "Requirement already satisfied: gast<=0.4.0,>=0.2.1 in c:\\users\\keviny168\\anaconda3\\envs\\colab\\lib\\site-packages (from tensorflow-intel==2.13.0->tensorflow==2.13.*) (0.4.0)\n",
            "Requirement already satisfied: google-pasta>=0.1.1 in c:\\users\\keviny168\\anaconda3\\envs\\colab\\lib\\site-packages (from tensorflow-intel==2.13.0->tensorflow==2.13.*) (0.2.0)\n",
            "Requirement already satisfied: h5py>=2.9.0 in c:\\users\\keviny168\\anaconda3\\envs\\colab\\lib\\site-packages (from tensorflow-intel==2.13.0->tensorflow==2.13.*) (3.9.0)\n",
            "Requirement already satisfied: libclang>=13.0.0 in c:\\users\\keviny168\\anaconda3\\envs\\colab\\lib\\site-packages (from tensorflow-intel==2.13.0->tensorflow==2.13.*) (16.0.6)\n",
            "Requirement already satisfied: numpy<=1.24.3,>=1.22 in c:\\users\\keviny168\\anaconda3\\envs\\colab\\lib\\site-packages (from tensorflow-intel==2.13.0->tensorflow==2.13.*) (1.24.3)\n",
            "Requirement already satisfied: opt-einsum>=2.3.2 in c:\\users\\keviny168\\anaconda3\\envs\\colab\\lib\\site-packages (from tensorflow-intel==2.13.0->tensorflow==2.13.*) (3.3.0)\n",
            "Requirement already satisfied: packaging in c:\\users\\keviny168\\anaconda3\\envs\\colab\\lib\\site-packages (from tensorflow-intel==2.13.0->tensorflow==2.13.*) (23.1)\n",
            "Requirement already satisfied: protobuf!=4.21.0,!=4.21.1,!=4.21.2,!=4.21.3,!=4.21.4,!=4.21.5,<5.0.0dev,>=3.20.3 in c:\\users\\keviny168\\anaconda3\\envs\\colab\\lib\\site-packages (from tensorflow-intel==2.13.0->tensorflow==2.13.*) (4.24.2)\n",
            "Requirement already satisfied: setuptools in c:\\users\\keviny168\\anaconda3\\envs\\colab\\lib\\site-packages (from tensorflow-intel==2.13.0->tensorflow==2.13.*) (68.0.0)\n",
            "Requirement already satisfied: six>=1.12.0 in c:\\users\\keviny168\\anaconda3\\envs\\colab\\lib\\site-packages (from tensorflow-intel==2.13.0->tensorflow==2.13.*) (1.16.0)\n",
            "Requirement already satisfied: termcolor>=1.1.0 in c:\\users\\keviny168\\anaconda3\\envs\\colab\\lib\\site-packages (from tensorflow-intel==2.13.0->tensorflow==2.13.*) (2.3.0)\n",
            "Requirement already satisfied: typing-extensions<4.6.0,>=3.6.6 in c:\\users\\keviny168\\anaconda3\\envs\\colab\\lib\\site-packages (from tensorflow-intel==2.13.0->tensorflow==2.13.*) (4.5.0)\n",
            "Requirement already satisfied: wrapt>=1.11.0 in c:\\users\\keviny168\\anaconda3\\envs\\colab\\lib\\site-packages (from tensorflow-intel==2.13.0->tensorflow==2.13.*) (1.15.0)\n",
            "Requirement already satisfied: grpcio<2.0,>=1.24.3 in c:\\users\\keviny168\\anaconda3\\envs\\colab\\lib\\site-packages (from tensorflow-intel==2.13.0->tensorflow==2.13.*) (1.57.0)\n",
            "Requirement already satisfied: tensorboard<2.14,>=2.13 in c:\\users\\keviny168\\anaconda3\\envs\\colab\\lib\\site-packages (from tensorflow-intel==2.13.0->tensorflow==2.13.*) (2.13.0)\n",
            "Requirement already satisfied: tensorflow-estimator<2.14,>=2.13.0 in c:\\users\\keviny168\\anaconda3\\envs\\colab\\lib\\site-packages (from tensorflow-intel==2.13.0->tensorflow==2.13.*) (2.13.0)\n",
            "Requirement already satisfied: keras<2.14,>=2.13.1 in c:\\users\\keviny168\\anaconda3\\envs\\colab\\lib\\site-packages (from tensorflow-intel==2.13.0->tensorflow==2.13.*) (2.13.1)\n",
            "Requirement already satisfied: tensorflow-io-gcs-filesystem>=0.23.1 in c:\\users\\keviny168\\anaconda3\\envs\\colab\\lib\\site-packages (from tensorflow-intel==2.13.0->tensorflow==2.13.*) (0.31.0)\n",
            "Requirement already satisfied: contourpy>=1.0.1 in c:\\users\\keviny168\\anaconda3\\envs\\colab\\lib\\site-packages (from matplotlib) (1.1.0)\n",
            "Requirement already satisfied: cycler>=0.10 in c:\\users\\keviny168\\anaconda3\\envs\\colab\\lib\\site-packages (from matplotlib) (0.11.0)\n",
            "Requirement already satisfied: fonttools>=4.22.0 in c:\\users\\keviny168\\anaconda3\\envs\\colab\\lib\\site-packages (from matplotlib) (4.42.1)\n",
            "Requirement already satisfied: kiwisolver>=1.0.1 in c:\\users\\keviny168\\anaconda3\\envs\\colab\\lib\\site-packages (from matplotlib) (1.4.5)\n",
            "Requirement already satisfied: pillow>=6.2.0 in c:\\users\\keviny168\\anaconda3\\envs\\colab\\lib\\site-packages (from matplotlib) (10.0.0)\n",
            "Requirement already satisfied: pyparsing<3.1,>=2.3.1 in c:\\users\\keviny168\\anaconda3\\envs\\colab\\lib\\site-packages (from matplotlib) (3.0.9)\n",
            "Requirement already satisfied: python-dateutil>=2.7 in c:\\users\\keviny168\\anaconda3\\envs\\colab\\lib\\site-packages (from matplotlib) (2.8.2)\n",
            "Requirement already satisfied: scipy in c:\\users\\keviny168\\anaconda3\\envs\\colab\\lib\\site-packages (from spicy) (1.11.2)\n",
            "Requirement already satisfied: wheel<1.0,>=0.23.0 in c:\\users\\keviny168\\anaconda3\\envs\\colab\\lib\\site-packages (from astunparse>=1.6.0->tensorflow-intel==2.13.0->tensorflow==2.13.*) (0.38.4)\n",
            "Requirement already satisfied: google-auth<3,>=1.6.3 in c:\\users\\keviny168\\anaconda3\\envs\\colab\\lib\\site-packages (from tensorboard<2.14,>=2.13->tensorflow-intel==2.13.0->tensorflow==2.13.*) (2.22.0)\n",
            "Requirement already satisfied: google-auth-oauthlib<1.1,>=0.5 in c:\\users\\keviny168\\anaconda3\\envs\\colab\\lib\\site-packages (from tensorboard<2.14,>=2.13->tensorflow-intel==2.13.0->tensorflow==2.13.*) (1.0.0)\n",
            "Requirement already satisfied: markdown>=2.6.8 in c:\\users\\keviny168\\anaconda3\\envs\\colab\\lib\\site-packages (from tensorboard<2.14,>=2.13->tensorflow-intel==2.13.0->tensorflow==2.13.*) (3.4.4)\n",
            "Requirement already satisfied: requests<3,>=2.21.0 in c:\\users\\keviny168\\anaconda3\\envs\\colab\\lib\\site-packages (from tensorboard<2.14,>=2.13->tensorflow-intel==2.13.0->tensorflow==2.13.*) (2.31.0)\n",
            "Requirement already satisfied: tensorboard-data-server<0.8.0,>=0.7.0 in c:\\users\\keviny168\\anaconda3\\envs\\colab\\lib\\site-packages (from tensorboard<2.14,>=2.13->tensorflow-intel==2.13.0->tensorflow==2.13.*) (0.7.1)\n",
            "Requirement already satisfied: werkzeug>=1.0.1 in c:\\users\\keviny168\\anaconda3\\envs\\colab\\lib\\site-packages (from tensorboard<2.14,>=2.13->tensorflow-intel==2.13.0->tensorflow==2.13.*) (2.3.7)\n",
            "Requirement already satisfied: cachetools<6.0,>=2.0.0 in c:\\users\\keviny168\\anaconda3\\envs\\colab\\lib\\site-packages (from google-auth<3,>=1.6.3->tensorboard<2.14,>=2.13->tensorflow-intel==2.13.0->tensorflow==2.13.*) (5.3.1)\n",
            "Requirement already satisfied: pyasn1-modules>=0.2.1 in c:\\users\\keviny168\\anaconda3\\envs\\colab\\lib\\site-packages (from google-auth<3,>=1.6.3->tensorboard<2.14,>=2.13->tensorflow-intel==2.13.0->tensorflow==2.13.*) (0.3.0)\n",
            "Requirement already satisfied: rsa<5,>=3.1.4 in c:\\users\\keviny168\\anaconda3\\envs\\colab\\lib\\site-packages (from google-auth<3,>=1.6.3->tensorboard<2.14,>=2.13->tensorflow-intel==2.13.0->tensorflow==2.13.*) (4.9)\n",
            "Requirement already satisfied: urllib3<2.0 in c:\\users\\keviny168\\anaconda3\\envs\\colab\\lib\\site-packages (from google-auth<3,>=1.6.3->tensorboard<2.14,>=2.13->tensorflow-intel==2.13.0->tensorflow==2.13.*) (1.26.16)\n",
            "Requirement already satisfied: requests-oauthlib>=0.7.0 in c:\\users\\keviny168\\anaconda3\\envs\\colab\\lib\\site-packages (from google-auth-oauthlib<1.1,>=0.5->tensorboard<2.14,>=2.13->tensorflow-intel==2.13.0->tensorflow==2.13.*) (1.3.1)\n",
            "Requirement already satisfied: charset-normalizer<4,>=2 in c:\\users\\keviny168\\anaconda3\\envs\\colab\\lib\\site-packages (from requests<3,>=2.21.0->tensorboard<2.14,>=2.13->tensorflow-intel==2.13.0->tensorflow==2.13.*) (3.2.0)\n",
            "Requirement already satisfied: idna<4,>=2.5 in c:\\users\\keviny168\\anaconda3\\envs\\colab\\lib\\site-packages (from requests<3,>=2.21.0->tensorboard<2.14,>=2.13->tensorflow-intel==2.13.0->tensorflow==2.13.*) (3.4)\n",
            "Requirement already satisfied: certifi>=2017.4.17 in c:\\users\\keviny168\\anaconda3\\envs\\colab\\lib\\site-packages (from requests<3,>=2.21.0->tensorboard<2.14,>=2.13->tensorflow-intel==2.13.0->tensorflow==2.13.*) (2023.7.22)\n",
            "Requirement already satisfied: MarkupSafe>=2.1.1 in c:\\users\\keviny168\\anaconda3\\envs\\colab\\lib\\site-packages (from werkzeug>=1.0.1->tensorboard<2.14,>=2.13->tensorflow-intel==2.13.0->tensorflow==2.13.*) (2.1.1)\n",
            "Requirement already satisfied: pyasn1<0.6.0,>=0.4.6 in c:\\users\\keviny168\\anaconda3\\envs\\colab\\lib\\site-packages (from pyasn1-modules>=0.2.1->google-auth<3,>=1.6.3->tensorboard<2.14,>=2.13->tensorflow-intel==2.13.0->tensorflow==2.13.*) (0.5.0)\n",
            "Requirement already satisfied: oauthlib>=3.0.0 in c:\\users\\keviny168\\anaconda3\\envs\\colab\\lib\\site-packages (from requests-oauthlib>=0.7.0->google-auth-oauthlib<1.1,>=0.5->tensorboard<2.14,>=2.13->tensorflow-intel==2.13.0->tensorflow==2.13.*) (3.2.2)\n"
          ]
        }
      ],
      "source": [
        "!pip install split-folders matplotlib opencv-python spicy tensorflow==2.13.*"
      ]
    },
    {
      "cell_type": "code",
      "source": [
        "!python -c \"import tensorflow as tf; print(tf.reduce_sum(tf.random.normal([1000, 1000])))\"\n",
        "!python -c \"import tensorflow as tf; print(tf.config.list_physical_devices('GPU'))\""
      ],
      "metadata": {
        "colab": {
          "base_uri": "https://localhost:8080/"
        },
        "id": "HeMk8nH2jbWG",
        "outputId": "fa144e5f-2b79-4618-e3b0-d3cc4a619124"
      },
      "execution_count": 2,
      "outputs": [
        {
          "output_type": "stream",
          "name": "stdout",
          "text": [
            "tf.Tensor(-1249.9948, shape=(), dtype=float32)\n"
          ]
        },
        {
          "output_type": "stream",
          "name": "stderr",
          "text": [
            "2023-09-06 09:36:40.203086: I tensorflow/core/platform/cpu_feature_guard.cc:182] This TensorFlow binary is optimized to use available CPU instructions in performance-critical operations.\n",
            "To enable the following instructions: SSE SSE2 SSE3 SSE4.1 SSE4.2 AVX AVX2 AVX512F AVX512_VNNI FMA, in other operations, rebuild TensorFlow with the appropriate compiler flags.\n"
          ]
        },
        {
          "output_type": "stream",
          "name": "stdout",
          "text": [
            "[]\n"
          ]
        }
      ]
    },
    {
      "cell_type": "code",
      "source": [
        "import tensorflow as tf\n",
        "tf.AggregationMethod"
      ],
      "metadata": {
        "colab": {
          "base_uri": "https://localhost:8080/"
        },
        "id": "HBDILemMkETo",
        "outputId": "722cb737-195c-40cb-a615-46c95f84092f"
      },
      "execution_count": 3,
      "outputs": [
        {
          "output_type": "execute_result",
          "data": {
            "text/plain": [
              "tensorflow.python.ops.gradients_util.AggregationMethod"
            ]
          },
          "metadata": {},
          "execution_count": 3
        }
      ]
    },
    {
      "cell_type": "code",
      "source": [
        "# display, transform, read, split ...\n",
        "import numpy as np\n",
        "import cv2 as cv\n",
        "import os\n",
        "import splitfolders\n",
        "import matplotlib.pyplot as plt\n",
        "\n",
        "# tensorflow\n",
        "import tensorflow.keras as keras\n",
        "import tensorflow as tf\n",
        "\n",
        "# image processing\n",
        "from tensorflow.keras.preprocessing import image\n",
        "from tensorflow.keras.preprocessing.image import ImageDataGenerator, load_img\n",
        "\n",
        "# model / neural network\n",
        "from tensorflow.keras import layers\n",
        "from tensorflow.keras.models import Sequential, Model\n",
        "from tensorflow.keras.applications import ResNet50\n",
        "from tensorflow.keras.applications.resnet50 import preprocess_input\n",
        "\n",
        "!pip install google-colab\n",
        "# Only use if you are not running locally\n",
        "#from google.colab import drive\n",
        "#drive.mount('/content/drive')"
      ],
      "metadata": {
        "id": "TwWf-xpkEMfI",
        "colab": {
          "base_uri": "https://localhost:8080/"
        },
        "outputId": "527a16f3-9611-4a02-e69c-88f7801e5ee8"
      },
      "execution_count": 4,
      "outputs": [
        {
          "output_type": "stream",
          "name": "stdout",
          "text": [
            "Collecting google-colab\n",
            "  Using cached google-colab-1.0.0.tar.gz (72 kB)\n",
            "  Preparing metadata (setup.py): started\n",
            "  Preparing metadata (setup.py): finished with status 'done'\n",
            "Collecting google-auth~=1.4.0 (from google-colab)\n",
            "  Using cached google_auth-1.4.2-py2.py3-none-any.whl (64 kB)\n",
            "Collecting ipykernel~=4.6.0 (from google-colab)\n",
            "  Using cached ipykernel-4.6.1-py3-none-any.whl (104 kB)\n",
            "Collecting ipython~=5.5.0 (from google-colab)\n",
            "  Using cached ipython-5.5.0-py3-none-any.whl (758 kB)\n",
            "Collecting notebook~=5.2.0 (from google-colab)\n",
            "  Using cached notebook-5.2.2-py2.py3-none-any.whl (8.0 MB)\n",
            "Collecting six~=1.12.0 (from google-colab)\n",
            "  Using cached six-1.12.0-py2.py3-none-any.whl (10 kB)\n",
            "Collecting pandas~=0.24.0 (from google-colab)\n",
            "  Using cached pandas-0.24.2.tar.gz (11.8 MB)\n",
            "  Preparing metadata (setup.py): started\n",
            "  Preparing metadata (setup.py): finished with status 'error'\n"
          ]
        },
        {
          "output_type": "stream",
          "name": "stderr",
          "text": [
            "  error: subprocess-exited-with-error\n",
            "  \n",
            "  python setup.py egg_info did not run successfully.\n",
            "  exit code: 1\n",
            "  \n",
            "  [15 lines of output]\n",
            "  C:\\Users\\keviny168\\AppData\\Local\\Temp\\pip-install-3xrf_s_c\\pandas_442a2b5235f34fbf8eb44857606c4829\\setup.py:12: DeprecationWarning: pkg_resources is deprecated as an API. See https://setuptools.pypa.io/en/latest/pkg_resources.html\n",
            "    import pkg_resources\n",
            "  C:\\Users\\keviny168\\anaconda3\\envs\\colab\\lib\\site-packages\\setuptools\\__init__.py:84: _DeprecatedInstaller: setuptools.installer and fetch_build_eggs are deprecated.\n",
            "  !!\n",
            "  \n",
            "          ********************************************************************************\n",
            "          Requirements should be satisfied by a PEP 517 installer.\n",
            "          If you are using pip, you can try `pip install --use-pep517`.\n",
            "          ********************************************************************************\n",
            "  \n",
            "  !!\n",
            "    dist.fetch_build_eggs(dist.setup_requires)\n",
            "  error in pandas setup command: 'install_requires' must be a string or list of strings containing valid project/version requirement specifiers; Expected end or semicolon (after version specifier)\n",
            "      pytz >= 2011k\n",
            "           ~~~~~~~^\n",
            "  [end of output]\n",
            "  \n",
            "  note: This error originates from a subprocess, and is likely not a problem with pip.\n",
            "error: metadata-generation-failed\n",
            "\n",
            "Encountered error while generating package metadata.\n",
            "\n",
            "See above for output.\n",
            "\n",
            "note: This is an issue with the package mentioned above, not pip.\n",
            "hint: See above for details.\n"
          ]
        }
      ]
    },
    {
      "cell_type": "markdown",
      "source": [
        "##Processing Images"
      ],
      "metadata": {
        "id": "A_uejOZ3Eeom"
      }
    },
    {
      "cell_type": "code",
      "source": [
        "!pip install split-folders"
      ],
      "metadata": {
        "colab": {
          "base_uri": "https://localhost:8080/"
        },
        "id": "O4U8eTLec8x1",
        "outputId": "e8fd6880-758c-4b5e-b08f-37aff5b35ec7"
      },
      "execution_count": 5,
      "outputs": [
        {
          "output_type": "stream",
          "name": "stdout",
          "text": [
            "Requirement already satisfied: split-folders in c:\\users\\keviny168\\anaconda3\\envs\\colab\\lib\\site-packages (0.5.1)\n"
          ]
        }
      ]
    },
    {
      "cell_type": "code",
      "source": [
        "#splitting folders into test, val and train data if you have your own datasets.\n",
        "#Only use this for large amount of data sets to make sure you don't lose out on the specific\n",
        "#If you already split your folders, DON'T run again.\n",
        "import splitfolders\n",
        "splitfolders.ratio(\"C:\\\\Users\\\\keviny168\\\\Downloads\\\\archive\\\\train_data\", # The location of dataset\n",
        "                   output=\"C:\\\\Users\\\\keviny168\\\\Downloads\\\\archive\\\\new_train\", # The output location\n",
        "                   seed=42, # The number of seed\n",
        "                   ratio=(.7, .2, .1), # The ratio of splited dataset\n",
        "                   group_prefix=None, # If your dataset contains more than one file like \".jpg\", \".pdf\", etc\n",
        "                   move=False # If you choose to move, turn this into True\n",
        "                   )"
      ],
      "metadata": {
        "id": "SPj359BEdy_h"
      },
      "execution_count": null,
      "outputs": []
    },
    {
      "cell_type": "markdown",
      "source": [
        "##Data generators"
      ],
      "metadata": {
        "id": "HixSUSnMHllL"
      }
    },
    {
      "cell_type": "code",
      "source": [
        "datagen = ImageDataGenerator()\n",
        "#define class name\n",
        "class_names = ['Nike', 'Adidas']"
      ],
      "metadata": {
        "id": "YDx1j2roHrJo"
      },
      "execution_count": 8,
      "outputs": []
    },
    {
      "cell_type": "code",
      "source": [
        "# training data\n",
        "train_generator = datagen.flow_from_directory(\n",
        "    directory=\"C:\\\\Users\\\\keviny168\\\\Downloads\\\\archive\\\\new_train\\\\train\",\n",
        "    classes = class_names,\n",
        "    target_size=(224, 224),\n",
        "    batch_size=256,\n",
        "    class_mode=\"binary\",\n",
        ")"
      ],
      "metadata": {
        "colab": {
          "base_uri": "https://localhost:8080/"
        },
        "id": "_4uGO3kXIQYx",
        "outputId": "97d21817-fda4-4a49-bbfc-6778e0062a5d"
      },
      "execution_count": 9,
      "outputs": [
        {
          "output_type": "stream",
          "name": "stdout",
          "text": [
            "Found 12344 images belonging to 2 classes.\n"
          ]
        }
      ]
    },
    {
      "cell_type": "code",
      "source": [
        "# validation data\n",
        "valid_generator = datagen.flow_from_directory(\n",
        "    directory=\"C:\\\\Users\\\\keviny168\\\\Downloads\\\\archive\\\\new_train\\\\val\",\n",
        "    classes = class_names,\n",
        "    target_size=(224, 224),\n",
        "    batch_size=64,\n",
        "    class_mode=\"binary\",\n",
        ")"
      ],
      "metadata": {
        "id": "-a71Hs9DJOl-"
      },
      "execution_count": null,
      "outputs": []
    },
    {
      "cell_type": "code",
      "source": [
        "# test data\n",
        "test_generator = datagen.flow_from_directory(\n",
        "    directory=\"C:\\\\Users\\\\keviny168\\\\Downloads\\\\archive\\\\new_train\\\\test\",\n",
        "    classes = class_names,\n",
        "    target_size=(224, 224),\n",
        "    batch_size=32,\n",
        "    class_mode=\"binary\",\n",
        ")"
      ],
      "metadata": {
        "colab": {
          "base_uri": "https://localhost:8080/"
        },
        "id": "w0Hcy2zGK0y5",
        "outputId": "07c32f58-0048-4e29-9b55-c1196af990cb"
      },
      "execution_count": 11,
      "outputs": [
        {
          "output_type": "stream",
          "name": "stdout",
          "text": [
            "Found 1765 images belonging to 2 classes.\n"
          ]
        }
      ]
    },
    {
      "cell_type": "markdown",
      "source": [
        "##Training ML Model"
      ],
      "metadata": {
        "id": "0Od2NN4jKGS1"
      }
    },
    {
      "cell_type": "code",
      "source": [
        "# ResNet50 model\n",
        "resnet_50 = ResNet50(include_top=False, weights='imagenet', input_shape=(224,224,3))\n",
        "for layer in resnet_50.layers:\n",
        "    layer.trainable = False"
      ],
      "metadata": {
        "id": "ISKislrfKI4c"
      },
      "execution_count": 12,
      "outputs": []
    },
    {
      "cell_type": "code",
      "source": [
        "# build the entire model\n",
        "x = resnet_50.output\n",
        "x = layers.GlobalAveragePooling2D()(x)\n",
        "x = layers.Dense(512, activation='relu')(x)\n",
        "x = layers.Dropout(0.5)(x)\n",
        "x = layers.Dense(256, activation='relu')(x)\n",
        "x = layers.Dropout(0.5)(x)\n",
        "x = layers.Dense(128, activation='relu')(x)\n",
        "x = layers.Dropout(0.5)(x)\n",
        "x = layers.Dense(64, activation='relu')(x)\n",
        "x = layers.Dropout(0.5)(x)\n",
        "predictions = layers.Dense(2, activation='softmax')(x)\n",
        "model = Model(inputs = resnet_50.input, outputs = predictions)"
      ],
      "metadata": {
        "id": "tDnApqNYKMLH"
      },
      "execution_count": 13,
      "outputs": []
    },
    {
      "cell_type": "code",
      "source": [
        "# define training function\n",
        "def trainModel(model, epochs, optimizer):\n",
        "    batch_size = 128\n",
        "    model.compile(optimizer=optimizer, loss=\"sparse_categorical_crossentropy\", metrics=[\"accuracy\"])\n",
        "    return model.fit(train_generator, validation_data=valid_generator, epochs=epochs, batch_size=batch_size)"
      ],
      "metadata": {
        "id": "eVyJkSmjKR3_"
      },
      "execution_count": 14,
      "outputs": []
    },
    {
      "cell_type": "code",
      "source": [
        "# launch the training\n",
        "model_history = trainModel(model = model, epochs = 15, optimizer = \"Adam\")"
      ],
      "metadata": {
        "colab": {
          "base_uri": "https://localhost:8080/"
        },
        "id": "51mmjKF5KVhy",
        "outputId": "40887bb7-e213-46a8-fb37-8151cedf7a40"
      },
      "execution_count": 15,
      "outputs": [
        {
          "output_type": "stream",
          "name": "stdout",
          "text": [
            "Epoch 1/15\n"
          ]
        },
        {
          "output_type": "stream",
          "name": "stderr",
          "text": [
            "C:\\Users\\keviny168\\anaconda3\\envs\\colab\\lib\\site-packages\\PIL\\Image.py:970: UserWarning: Palette images with Transparency expressed in bytes should be converted to RGBA images\n",
            "  warnings.warn(\n"
          ]
        },
        {
          "output_type": "stream",
          "name": "stdout",
          "text": [
            "49/49 [==============================] - 745s 15s/step - loss: 0.8338 - accuracy: 0.5334 - val_loss: 0.6719 - val_accuracy: 0.5753\n",
            "Epoch 2/15\n",
            "49/49 [==============================] - 744s 15s/step - loss: 0.6725 - accuracy: 0.5747 - val_loss: 0.6212 - val_accuracy: 0.6107\n",
            "Epoch 3/15\n",
            "49/49 [==============================] - 734s 15s/step - loss: 0.5959 - accuracy: 0.6676 - val_loss: 0.5118 - val_accuracy: 0.7664\n",
            "Epoch 4/15\n",
            "49/49 [==============================] - 734s 15s/step - loss: 0.5030 - accuracy: 0.7539 - val_loss: 0.4121 - val_accuracy: 0.8171\n",
            "Epoch 5/15\n",
            "49/49 [==============================] - 736s 15s/step - loss: 0.4474 - accuracy: 0.7998 - val_loss: 0.3700 - val_accuracy: 0.8463\n",
            "Epoch 6/15\n",
            "49/49 [==============================] - 733s 15s/step - loss: 0.4043 - accuracy: 0.8244 - val_loss: 0.3326 - val_accuracy: 0.8636\n",
            "Epoch 7/15\n",
            "49/49 [==============================] - 733s 15s/step - loss: 0.3891 - accuracy: 0.8278 - val_loss: 0.3101 - val_accuracy: 0.8758\n",
            "Epoch 8/15\n",
            "49/49 [==============================] - 736s 15s/step - loss: 0.3588 - accuracy: 0.8456 - val_loss: 0.2916 - val_accuracy: 0.8665\n",
            "Epoch 9/15\n",
            "49/49 [==============================] - 736s 15s/step - loss: 0.3398 - accuracy: 0.8538 - val_loss: 0.2851 - val_accuracy: 0.8809\n",
            "Epoch 10/15\n",
            "49/49 [==============================] - 734s 15s/step - loss: 0.3417 - accuracy: 0.8516 - val_loss: 0.2733 - val_accuracy: 0.8832\n",
            "Epoch 11/15\n",
            "49/49 [==============================] - 734s 15s/step - loss: 0.3199 - accuracy: 0.8579 - val_loss: 0.2692 - val_accuracy: 0.8840\n",
            "Epoch 12/15\n",
            "49/49 [==============================] - 733s 15s/step - loss: 0.3093 - accuracy: 0.8663 - val_loss: 0.2553 - val_accuracy: 0.8957\n",
            "Epoch 13/15\n",
            "49/49 [==============================] - 737s 15s/step - loss: 0.2930 - accuracy: 0.8722 - val_loss: 0.2684 - val_accuracy: 0.8812\n",
            "Epoch 14/15\n",
            "49/49 [==============================] - 733s 15s/step - loss: 0.2925 - accuracy: 0.8768 - val_loss: 0.2719 - val_accuracy: 0.8920\n",
            "Epoch 15/15\n",
            "49/49 [==============================] - 739s 15s/step - loss: 0.2998 - accuracy: 0.8680 - val_loss: 0.2479 - val_accuracy: 0.8968\n"
          ]
        }
      ]
    },
    {
      "cell_type": "markdown",
      "source": [
        "##Graph and Evaluation"
      ],
      "metadata": {
        "id": "yoKKZ9NtctZw"
      }
    },
    {
      "cell_type": "code",
      "source": [
        "# graph loss and accuracy\n",
        "loss_train_curve = model_history.history[\"loss\"]\n",
        "loss_val_curve = model_history.history[\"val_loss\"]\n",
        "plt.plot(loss_train_curve, label = \"Train\")\n",
        "plt.plot(loss_val_curve, label = \"Validation\")\n",
        "plt.legend(loc = 'upper right')\n",
        "plt.title(\"Loss\")\n",
        "plt.show()\n",
        "\n",
        "acc_train_curve = model_history.history[\"accuracy\"]\n",
        "acc_val_curve = model_history.history[\"val_accuracy\"]\n",
        "plt.plot(acc_train_curve, label = \"Train\")\n",
        "plt.plot(acc_val_curve, label = \"Validation\")\n",
        "plt.legend(loc = 'lower right')\n",
        "plt.title(\"Accuracy\")\n",
        "plt.show()"
      ],
      "metadata": {
        "id": "YFio84c8Kcr_",
        "colab": {
          "base_uri": "https://localhost:8080/",
          "height": 887
        },
        "outputId": "4c958efa-25cc-49db-d9ad-975c6b76ed6c"
      },
      "execution_count": 16,
      "outputs": [
        {
          "output_type": "display_data",
          "data": {
            "text/plain": [
              "<Figure size 640x480 with 1 Axes>"
            ],
            "image/png": "[encoded data removed]"
          },
          "metadata": {}
        },
        {
          "output_type": "display_data",
          "data": {
            "text/plain": [
              "<Figure size 640x480 with 1 Axes>"
            ],
            "image/png": "[encoded data removed]"
          },
          "metadata": {}
        }
      ]
    },
    {
      "cell_type": "code",
      "source": [
        "#evaluation\n",
        "test_loss, test_acc = model.evaluate(test_generator)\n",
        "print(\"The test loss is: \", test_loss)\n",
        "print(\"The best accuracy is: \", test_acc*100)"
      ],
      "metadata": {
        "id": "f2gSngoEKmA3",
        "colab": {
          "base_uri": "https://localhost:8080/"
        },
        "outputId": "05088e22-287c-4e69-85c6-114d887c8571"
      },
      "execution_count": 17,
      "outputs": [
        {
          "output_type": "stream",
          "name": "stdout",
          "text": [
            "56/56 [==============================] - 84s 2s/step - loss: 0.2533 - accuracy: 0.8952\n",
            "The test loss is:  0.2533460855484009\n",
            "The best accuracy is:  89.51841592788696\n"
          ]
        }
      ]
    },
    {
      "cell_type": "markdown",
      "source": [
        "##Saving the model"
      ],
      "metadata": {
        "id": "fPKzGZc5BQSg"
      }
    },
    {
      "cell_type": "code",
      "source": [
        "model.save('C:\\\\Users\\\\keviny168\\\\Downloads\\\\model_save.keras')\n",
        "#put directory only on local, otherwise to use the {name}.keras format"
      ],
      "metadata": {
        "id": "Bobyk4xIBRes"
      },
      "execution_count": 19,
      "outputs": []
    },
    {
      "cell_type": "markdown",
      "source": [
        "##Test"
      ],
      "metadata": {
        "id": "67yzHrBuF8A_"
      }
    },
    {
      "cell_type": "code",
      "source": [
        "#Load model that you download\n",
        "from keras.models import load_model\n",
        "loaded_model = load_model('C:\\\\Users\\\\keviny168\\\\Downloads\\\\model_save.keras')"
      ],
      "metadata": {
        "id": "IBmT9cAILqsa"
      },
      "execution_count": 39,
      "outputs": []
    },
    {
      "cell_type": "code",
      "source": [
        "# generate predictions for samples\n",
        "img = tf.keras.preprocessing.image.load_img(\"C:\\\\Users\\\\keviny168\\\\Downloads\\\\edshoes.jpg\", target_size=(224, 224)) #change directory for sample\n",
        "img_array = tf.keras.preprocessing.image.img_to_array(img)\n",
        "img_array = np.array([img_array])"
      ],
      "metadata": {
        "id": "DVXR1OHhF92T"
      },
      "execution_count": 69,
      "outputs": []
    },
    {
      "cell_type": "code",
      "source": [
        "#print out prediction\n",
        "\n",
        "prediction = loaded_model.predict(img_array)\n",
        "print(prediction)\n",
        "if np.argmax(prediction, axis=1)[0] == 1: #\n",
        "  print(\"Adidas\")\n",
        "else:\n",
        "  print(\"Nike\")"
      ],
      "metadata": {
        "colab": {
          "base_uri": "https://localhost:8080/"
        },
        "id": "6lAiGkloM4QK",
        "outputId": "45202bd2-5528-4817-9236-1638cd20018c"
      },
      "execution_count": 72,
      "outputs": [
        {
          "output_type": "stream",
          "name": "stdout",
          "text": [
            "1/1 [==============================] - 0s 112ms/step\n",
            "[[0.23091967 0.7690803 ]]\n",
            "Adidas\n"
          ]
        }
      ]
    }
  ]
}